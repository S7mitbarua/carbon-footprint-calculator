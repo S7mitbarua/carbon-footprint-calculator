{
  "nbformat": 4,
  "nbformat_minor": 0,
  "metadata": {
    "colab": {
      "provenance": [],
      "authorship_tag": "ABX9TyODcbJLgwmUYZodpYv5Uk05",
      "include_colab_link": true
    },
    "kernelspec": {
      "name": "python3",
      "display_name": "Python 3"
    },
    "language_info": {
      "name": "python"
    }
  },
  "cells": [
    {
      "cell_type": "markdown",
      "metadata": {
        "id": "view-in-github",
        "colab_type": "text"
      },
      "source": [
        "<a href=\"https://colab.research.google.com/github/S7mitbarua/carbon-footprint-calculator/blob/main/carbon_footprint_calculator.ipynb\" target=\"_parent\"><img src=\"https://colab.research.google.com/assets/colab-badge.svg\" alt=\"Open In Colab\"/></a>"
      ]
    },
    {
      "cell_type": "code",
      "execution_count": 2,
      "metadata": {
        "colab": {
          "base_uri": "https://localhost:8080/"
        },
        "id": "GVlLoEWI99r8",
        "outputId": "f57b117b-8d46-4a7f-c81c-1dc145e2828f"
      },
      "outputs": [
        {
          "output_type": "stream",
          "name": "stdout",
          "text": [
            "Welcome to the Climate-Friendly App!\n",
            "Let's calculate your carbon footprint.\n",
            "Enter the distance you traveled (in kilometers): 6\n",
            "Enter your transportation method (car/bus/train/bicycle): bus\n",
            "Your carbon footprint for this trip is approximately 0.53 kg CO2.\n"
          ]
        }
      ],
      "source": [
        "# Create a carbon footprint calculator:\n",
        "def calculate_carbon_footprint(distance, transportation_method):\n",
        "    # Carbon footprint values in kg CO2 per kilometer for different transportation methods\n",
        "    carbon_footprint_values = {\n",
        "        \"car\": 0.171,\n",
        "        \"bus\": 0.089,\n",
        "        \"train\": 0.04,\n",
        "        \"bicycle\": 0,\n",
        "    }\n",
        "\n",
        "    if transportation_method in carbon_footprint_values:\n",
        "        carbon_footprint = distance * carbon_footprint_values[transportation_method]\n",
        "        return carbon_footprint\n",
        "    else:\n",
        "        raise ValueError(\"Invalid transportation method\")\n",
        "\n",
        "def main():\n",
        "    print(\"Welcome to the Climate-Friendly App!\")\n",
        "    print(\"Let's calculate your carbon footprint.\")\n",
        "\n",
        "    try:\n",
        "        distance = float(input(\"Enter the distance you traveled (in kilometers): \"))\n",
        "        transportation_method = input(\"Enter your transportation method (car/bus/train/bicycle): \")\n",
        "\n",
        "        carbon_footprint = calculate_carbon_footprint(distance, transportation_method)\n",
        "\n",
        "        print(f\"Your carbon footprint for this trip is approximately {carbon_footprint:.2f} kg CO2.\")\n",
        "    except ValueError as e:\n",
        "        print(f\"Error: {e}\")\n",
        "\n",
        "if __name__ == \"__main__\":\n",
        "    main()\n"
      ]
    }
  ]
}